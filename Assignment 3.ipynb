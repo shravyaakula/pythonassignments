{
 "cells": [
  {
   "cell_type": "code",
   "execution_count": 1,
   "metadata": {},
   "outputs": [
    {
     "name": "stdout",
     "output_type": "stream",
     "text": [
      "Enter first side of triangle: 10\n",
      "Enter second side of triangle: 10\n",
      "Enter third side of triangle: 10\n",
      "43.30127018922193\n"
     ]
    }
   ],
   "source": [
    "#question-1\n",
    "a=int(input(\"Enter first side of triangle: \"))\n",
    "b=int(input(\"Enter second side of triangle: \")) \n",
    "c=int(input(\"Enter third side of triangle: \")) \n",
    "S=(a+b+c)/2 \n",
    "Area=(S*(S-a)*(S-b)*(S-c))**0.5 \n",
    "print(Area) "
   ]
  },
  {
   "cell_type": "code",
   "execution_count": 3,
   "metadata": {},
   "outputs": [
    {
     "name": "stdout",
     "output_type": "stream",
     "text": [
      "Enter string: madam\n",
      "Given string is a palindrome\n"
     ]
    }
   ],
   "source": [
    "#question-2 \n",
    "string=input(\"Enter string: \")\n",
    "if(string==string[::-1]) :\n",
    "    print(\"Given string is a palindrome\") \n",
    "else :\n",
    "        print(\"Given string is not a palindrome\") "
   ]
  },
  {
   "cell_type": "code",
   "execution_count": 4,
   "metadata": {},
   "outputs": [
    {
     "name": "stdout",
     "output_type": "stream",
     "text": [
      "Enter yr: 2020\n",
      "2020 is a leap yr\n"
     ]
    }
   ],
   "source": [
    "#question-3\n",
    "yr=int(input(\"Enter yr: \"))\n",
    "if yr % 400==0 :\n",
    "    print(\"{} is a leap yr\".format(yr)) \n",
    "elif yr % 100==0 :\n",
    "    print(\"{} is not a leap yr\".format(yr)) \n",
    "elif yr % 4==0 :\n",
    "    print(\"{} is a leap yr\".format(yr))\n",
    "else :\n",
    "    print(\"{} is not a leap yr\".format(yr)) "
   ]
  },
  {
   "cell_type": "code",
   "execution_count": 5,
   "metadata": {},
   "outputs": [
    {
     "name": "stdout",
     "output_type": "stream",
     "text": [
      "Enter the string: This program coverts spaces to hyphen\n",
      "This-program-coverts-spaces-to-hyphen\n"
     ]
    }
   ],
   "source": [
    "#question-4\n",
    "string1=input(\"Enter the string: \") \n",
    "string2=string1.replace(' ','-')\n",
    "print(string2) "
   ]
  },
  {
   "cell_type": "code",
   "execution_count": 6,
   "metadata": {},
   "outputs": [
    {
     "name": "stdout",
     "output_type": "stream",
     "text": [
      "Enter desired colors: orange,white,red,cyan,green,magenta,cyan,pink,white\n",
      "Sorted data cyan,cyan,green,magenta,orange,pink,red,white,white\n"
     ]
    }
   ],
   "source": [
    "#question 5\n",
    "colors=input(\"Enter desired colors: \").split(',') \n",
    "items=[x for x in colors]\n",
    "items.sort()\n",
    "print(\"Sorted data\" ,','.join(items)) "
   ]
  },
  {
   "cell_type": "code",
   "execution_count": 9,
   "metadata": {},
   "outputs": [
    {
     "name": "stdout",
     "output_type": "stream",
     "text": [
      "Enter salary of a person :- 600000\n",
      "the tax is 60000.0\n"
     ]
    }
   ],
   "source": [
    "#question-6 \n",
    "salary=int(input(\"Enter salary of a person :- \"))\n",
    "if salary<=250000:\n",
    "    print(\"no tax\") \n",
    "elif salary>250000 and salary<=500000:\n",
    "    Tax=salary*(5/100)\n",
    "    print(\"the tax is\",Tax) \n",
    "elif salary>500000 and salary<=750000: \n",
    "    Tax=salary*(10/100)\n",
    "    print(\"the tax is\",Tax) \n",
    "elif salary>750000 and salary<=1000000:\n",
    "    Tax=salary*(15/100)\n",
    "    print(\"the tax is\",Tax)\n",
    "elif salary>1000000 and salary<=1250000:\n",
    "    Tax=salary*(20/100)\n",
    "    print(\"the tax is\",Tax)\n",
    "elif salary>1250000 and salary<=1500000:\n",
    "    Tax=salary*(25/100)\n",
    "    print(\"the tax is\",Tax) \n",
    "elif salary>1500000:\n",
    "    Tax=salary*(30/100) \n",
    "    print(\"the tax is\",Tax) "
   ]
  },
  {
   "cell_type": "code",
   "execution_count": 8,
   "metadata": {},
   "outputs": [
    {
     "name": "stdout",
     "output_type": "stream",
     "text": [
      "113350"
     ]
    }
   ],
   "source": [
    "#question-7 \n",
    "list = [11,33,50]\n",
    "for i in list :\n",
    "    print(i,end=\"\") "
   ]
  },
  {
   "cell_type": "code",
   "execution_count": 17,
   "metadata": {},
   "outputs": [
    {
     "name": "stdout",
     "output_type": "stream",
     "text": [
      "Enter no of days: 1\n",
      "Enter no of hrs: 4\n",
      "Enter no of mins: 3\n",
      "Enter no of secs: 2\n",
      "Total seconds:  100982\n"
     ]
    }
   ],
   "source": [
    "#question-8 \n",
    "day=int(input(\"Enter no of days: \"))\n",
    "D=day*24*60*60\n",
    "hr=int(input(\"Enter no of hrs: \"))\n",
    "H=hr*60*60\n",
    "m=int(input(\"Enter no of mins: \"))\n",
    "M=m*60 \n",
    "sec=int(input(\"Enter no of secs: \")) \n",
    "totalsecs=D+H+M+sec\n",
    "print(\"Total seconds: \",totalsecs) "
   ]
  },
  {
   "cell_type": "code",
   "execution_count": 18,
   "metadata": {},
   "outputs": [
    {
     "name": "stdout",
     "output_type": "stream",
     "text": [
      "Enter first num: 3\n",
      "Enter second num: 1\n",
      "Enter third num: 2\n",
      "3 2 1\n"
     ]
    }
   ],
   "source": [
    "#question-9 \n",
    "a=int(input(\"Enter first num: \"))\n",
    "b=int(input(\"Enter second num: \")) \n",
    "c=int(input(\"Enter third num: \"))\n",
    "N=[a,b,c]\n",
    "H=max(N) \n",
    "L=min(N) \n",
    "list=N[0]+N[1]+N[2]-H-L\n",
    "print(H,list,L) "
   ]
  },
  {
   "cell_type": "code",
   "execution_count": 19,
   "metadata": {},
   "outputs": [
    {
     "name": "stdout",
     "output_type": "stream",
     "text": [
      "Enter date : 2020-09-10\n",
      "2020-09-11\n"
     ]
    }
   ],
   "source": [
    "#question-10\n",
    "d=input(\"Enter date : \")\n",
    "x=d.split('-') \n",
    "dd=int(x[2])+1 \n",
    "x[2]=str(dd) \n",
    "print(f\"{x[0]+'-'+x[1]+'-'+x[2]}\") "
   ]
  },
  {
   "cell_type": "code",
   "execution_count": 21,
   "metadata": {},
   "outputs": [
    {
     "name": "stdout",
     "output_type": "stream",
     "text": [
      "productis 121111200\n"
     ]
    }
   ],
   "source": [
    "#question-11\n",
    "list=[45,3,2,89,72,1,10,7]\n",
    "product=1\n",
    "for i in list :\n",
    "    product*=i \n",
    "print(f\"productis {product}\") "
   ]
  },
  {
   "cell_type": "code",
   "execution_count": 23,
   "metadata": {},
   "outputs": [
    {
     "name": "stdout",
     "output_type": "stream",
     "text": [
      "[11, 14, 42, 123, 90]\n"
     ]
    }
   ],
   "source": [
    "#question-12\n",
    "list=[5,6,8,34,89,1]\n",
    "x=[]\n",
    "y=0\n",
    "for i in list : \n",
    "    y+=1 \n",
    "    if y<len(list) : \n",
    "        x.append(i+list[y]) \n",
    "print(x) "
   ]
  },
  {
   "cell_type": "code",
   "execution_count": 26,
   "metadata": {},
   "outputs": [
    {
     "name": "stdout",
     "output_type": "stream",
     "text": [
      "[5, 30, 240, 720, 6480, 6480]\n"
     ]
    }
   ],
   "source": [
    "#question-13\n",
    "numtuple=(5,6,8,3,9,1) \n",
    "product=1 \n",
    "list=[] \n",
    "for i in numtuple : \n",
    "    product*=i\n",
    "    list.append(product)\n",
    "print(list) "
   ]
  },
  {
   "cell_type": "code",
   "execution_count": 28,
   "metadata": {},
   "outputs": [
    {
     "name": "stdout",
     "output_type": "stream",
     "text": [
      "Enter a num: 5863895\n",
      "[5, 8, 6, 3, 8, 9, 5]\n"
     ]
    }
   ],
   "source": [
    "#question-14\n",
    "num=int(input(\"Enter a num: \"))\n",
    "list=[]\n",
    "for i in str(num) :\n",
    "    list.append(int(i))\n",
    "print(list) "
   ]
  },
  {
   "cell_type": "code",
   "execution_count": 10,
   "metadata": {},
   "outputs": [
    {
     "name": "stdout",
     "output_type": "stream",
     "text": [
      "Enter a binary num of length 5: 10011\n",
      "Enter a binary num of length 10: 1110111011\n",
      "0\n"
     ]
    }
   ],
   "source": [
    "#question-16 \n",
    "a=input(\"Enter a binary num of length 5: \")\n",
    "b=input(\"Enter a binary num of length 10: \") \n",
    "if a[:] in b[:] : \n",
    "        print(1)\n",
    "else :\n",
    "      print(0) \n"
   ]
  }
 ],
 "metadata": {
  "kernelspec": {
   "display_name": "Python 3",
   "language": "python",
   "name": "python3"
  },
  "language_info": {
   "codemirror_mode": {
    "name": "ipython",
    "version": 3
   },
   "file_extension": ".py",
   "mimetype": "text/x-python",
   "name": "python",
   "nbconvert_exporter": "python",
   "pygments_lexer": "ipython3",
   "version": "3.7.6"
  }
 },
 "nbformat": 4,
 "nbformat_minor": 4
}
