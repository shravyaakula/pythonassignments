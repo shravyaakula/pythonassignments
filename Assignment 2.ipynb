{
 "cells": [
  {
   "cell_type": "code",
   "execution_count": 1,
   "metadata": {},
   "outputs": [
    {
     "name": "stdout",
     "output_type": "stream",
     "text": [
      "Enter the year: 2\n",
      "dog\n"
     ]
    }
   ],
   "source": [
    "\n",
    "#question 1\n",
    "year=int(input(\"Enter the year: \"))\n",
    "if year % 12==0 :\n",
    "    print(\"monkey\")\n",
    "elif year % 12==1 :\n",
    "    print(\"rooster\")\n",
    "elif year % 12==2 :\n",
    "    print(\"dog\")\n",
    "elif year % 12==3 :\n",
    "    print(\"pig\")\n",
    "elif year % 12==4 :\n",
    "    print(\"rat\")\n",
    "elif year % 12==5 :\n",
    "    print(\"ox\")\n",
    "elif year % 12==6 :\n",
    "    print(\"tiger\")\n",
    "elif year % 12==7 :\n",
    "    print(\"rabbit\") \n",
    "elif year % 12==8 :\n",
    "    print(\"dragon\")\n",
    "elif year % 12==9 :\n",
    "    print(\"snake\")\n",
    "elif year % 12==10 :\n",
    "    print(\"horse\")\n",
    "else :\n",
    "    print(\"sheep\")\n",
    "    "
   ]
  },
  {
   "cell_type": "code",
   "execution_count": 2,
   "metadata": {},
   "outputs": [
    {
     "name": "stdout",
     "output_type": "stream",
     "text": [
      "Enter which type of ticket you want: circle\n",
      "select cash or card: cash\n",
      "cost of ticket is :  675\n"
     ]
    }
   ],
   "source": [
    "#question 3\n",
    "seat=input(\"Enter which type of ticket you want: \")\n",
    "pay=input(\"select cash or card: \")\n",
    "if seat==\"stalls\" :\n",
    "    x=625\n",
    "elif seat==\"circle\" :\n",
    "    x=750\n",
    "elif seat==\"upper class\" :\n",
    "    x=850\n",
    "else :\n",
    "    x=100\n",
    "if pay==\"cash\" :\n",
    "    t=x-(x*10//100)\n",
    "else :\n",
    "    t=x-(x*5//100)\n",
    "print(\"cost of ticket is : \",t)\n",
    "  "
   ]
  },
  {
   "cell_type": "code",
   "execution_count": 7,
   "metadata": {},
   "outputs": [
    {
     "name": "stdout",
     "output_type": "stream",
     "text": [
      "enter amount of water in kilograms 10\n",
      "enter initial temperature of water in degree celsius 10\n",
      "enter final temperature of water in degree celsius 15\n",
      "energy required to heat water = 209200.0 joules\n"
     ]
    }
   ],
   "source": [
    "#question 4\n",
    "M= float(input('enter amount of water in kilograms '))\n",
    "initialtemperature=float(input('enter initial temperature of water in degree celsius '))\n",
    "finaltemperature=float(input('enter final temperature of water in degree celsius '))\n",
    "Q = M*4184*(finaltemperature - initialtemperature)\n",
    "print(f'energy required to heat water = {Q} joules')\n",
    "\n"
   ]
  },
  {
   "cell_type": "code",
   "execution_count": 2,
   "metadata": {},
   "outputs": [
    {
     "name": "stdout",
     "output_type": "stream",
     "text": [
      "Enter season: Summer\n",
      "June,July and August\n"
     ]
    }
   ],
   "source": [
    "#question 5\n",
    "season=input(\"Enter season: \")\n",
    "if season==\"winter\" :\n",
    "    print(\"December,January and february\")\n",
    "elif season==\"Spring\" :\n",
    "    print(\"March,April and may\")\n",
    "elif season==\"Summer\" :\n",
    "    print(\"June,July and August\")\n",
    "elif season==\"Autumn\" :\n",
    "    printf(\"September,october and November\")\n",
    "else :\n",
    "    print(\"Ntng\")"
   ]
  },
  {
   "cell_type": "code",
   "execution_count": 1,
   "metadata": {},
   "outputs": [
    {
     "name": "stdout",
     "output_type": "stream",
     "text": [
      "Enter weight in pounds: 38\n",
      "Enter the height in inches: 4\n",
      "1669.7902516430033\n",
      "obese\n"
     ]
    }
   ],
   "source": [
    "#question 6\n",
    "W=float(input(\"Enter weight in pounds: \"))\n",
    "m=0.45359237*W\n",
    "h=float(input(\"Enter the height in inches: \"))\n",
    "i=0.0254*h\n",
    "b=(m/(i**2))\n",
    "print(b)\n",
    "if(b<18.5) :\n",
    "    print(\"underweight\")\n",
    "elif b>=18.5 and b<25.0 :\n",
    "    print(\"normal\")\n",
    "elif b>=25.0 and b<30.0 :\n",
    "    print(\"overweight\")\n",
    "elif b>=30.0 :\n",
    "    print(\"obese\")\n",
    "else :\n",
    "    print(\"ntng\")\n",
    "    "
   ]
  },
  {
   "cell_type": "code",
   "execution_count": 2,
   "metadata": {},
   "outputs": [
    {
     "name": "stdout",
     "output_type": "stream",
     "text": [
      "Enter an integer from 100 to 1000252\n",
      "sum:  9\n"
     ]
    }
   ],
   "source": [
    "#question 7\n",
    "i=int(input(\"Enter an integer from 100 to 1000\"))\n",
    "sum=0\n",
    "while i>0:\n",
    "    r=i%10\n",
    "    i=i//10\n",
    "    sum=sum+r\n",
    "print(\"sum: \",sum)"
   ]
  },
  {
   "cell_type": "code",
   "execution_count": 3,
   "metadata": {},
   "outputs": [
    {
     "name": "stdout",
     "output_type": "stream",
     "text": [
      "1 2 3 4 5 6 7 8 9 11 22 33 44 55 66 77 88 99 101 111 121 131 141 151 161 171 181 191 202 212 222 232 242 252 262 272 282 292 303 313 323 333 343 353 363 373 383 393 404 414 424 434 444 454 464 474 484 494 505 515 525 535 545 555 565 575 585 595 606 616 626 636 646 656 666 676 686 696 707 717 727 737 747 757 767 777 787 797 808 818 828 838 848 858 868 878 888 898 909 919 929 939 949 959 969 979 989 999 "
     ]
    }
   ],
   "source": [
    "#question 8\n",
    "for n in range(1,1001) :\n",
    "    sum=0\n",
    "    t=n\n",
    "    while n>0 :\n",
    "        x=n%10\n",
    "        n=int(n/10)\n",
    "        sum=sum*10+x\n",
    "    if t==sum :\n",
    "        print(t,end=\" \")"
   ]
  },
  {
   "cell_type": "code",
   "execution_count": 6,
   "metadata": {},
   "outputs": [
    {
     "name": "stdout",
     "output_type": "stream",
     "text": [
      "0\n",
      "1\n",
      "153\n",
      "370\n",
      "371\n",
      "407\n"
     ]
    }
   ],
   "source": [
    "#question 9\n",
    "for num in range(0,1000) :\n",
    "    temp=num\n",
    "    sum=0\n",
    "    while temp>0  :\n",
    "        digit=temp%10\n",
    "        sum=sum+digit**3\n",
    "        temp=temp//10\n",
    "    if sum==num :\n",
    "        print(num)"
   ]
  },
  {
   "cell_type": "code",
   "execution_count": 9,
   "metadata": {},
   "outputs": [
    {
     "name": "stdout",
     "output_type": "stream",
     "text": [
      "---\n",
      "---\n",
      "Fizz\n",
      "---\n",
      "Buzz\n",
      "Fizz\n",
      "---\n",
      "---\n",
      "Fizz\n",
      "Buzz\n",
      "---\n",
      "Fizz\n",
      "---\n",
      "---\n",
      "Fizz Buzz\n",
      "---\n",
      "---\n",
      "Fizz\n",
      "---\n",
      "Buzz\n",
      "Fizz\n",
      "---\n",
      "---\n",
      "Fizz\n",
      "Buzz\n",
      "---\n",
      "Fizz\n",
      "---\n",
      "---\n",
      "Fizz Buzz\n",
      "---\n",
      "---\n",
      "Fizz\n",
      "---\n",
      "Buzz\n",
      "Fizz\n",
      "---\n",
      "---\n",
      "Fizz\n",
      "Buzz\n",
      "---\n",
      "Fizz\n",
      "---\n",
      "---\n",
      "Fizz Buzz\n",
      "---\n",
      "---\n",
      "Fizz\n",
      "---\n",
      "Buzz\n",
      "Fizz\n",
      "---\n",
      "---\n",
      "Fizz\n",
      "Buzz\n",
      "---\n",
      "Fizz\n",
      "---\n",
      "---\n",
      "Fizz Buzz\n",
      "---\n",
      "---\n",
      "Fizz\n",
      "---\n",
      "Buzz\n",
      "Fizz\n",
      "---\n",
      "---\n",
      "Fizz\n",
      "Buzz\n",
      "---\n",
      "Fizz\n",
      "---\n",
      "---\n",
      "Fizz Buzz\n",
      "---\n",
      "---\n",
      "Fizz\n",
      "---\n",
      "Buzz\n",
      "Fizz\n",
      "---\n",
      "---\n",
      "Fizz\n",
      "Buzz\n",
      "---\n",
      "Fizz\n",
      "---\n",
      "---\n",
      "Fizz Buzz\n",
      "---\n",
      "---\n",
      "Fizz\n",
      "---\n",
      "Buzz\n",
      "Fizz\n",
      "---\n",
      "---\n",
      "Fizz\n",
      "Buzz\n"
     ]
    }
   ],
   "source": [
    "#question 10\n",
    "for i in range(1,101) :\n",
    "    if i%3==0 and i%5==0 :\n",
    "        print(\"Fizz Buzz\")\n",
    "    elif i%3==0 :\n",
    "        print(\"Fizz\")\n",
    "    elif i%5==0 :\n",
    "        print(\"Buzz\")\n",
    "    else :\n",
    "        print(\"---\")"
   ]
  },
  {
   "cell_type": "code",
   "execution_count": 10,
   "metadata": {},
   "outputs": [
    {
     "name": "stdout",
     "output_type": "stream",
     "text": [
      "Enter height of the well: 200\n",
      "Enter height of the well climbed in meters: 50\n",
      "slips down: 1\n",
      "5\n"
     ]
    }
   ],
   "source": [
    "#question 11\n",
    "H=int(input(\"Enter height of the well: \"))\n",
    "U=int(input(\"Enter height of the well climbed in meters: \"))\n",
    "D=int(input(\"slips down: \"))\n",
    "step=((H-U)+(U-D))//(U-D)\n",
    "print(step+1)"
   ]
  }
 ],
 "metadata": {
  "kernelspec": {
   "display_name": "Python 3",
   "language": "python",
   "name": "python3"
  },
  "language_info": {
   "codemirror_mode": {
    "name": "ipython",
    "version": 3
   },
   "file_extension": ".py",
   "mimetype": "text/x-python",
   "name": "python",
   "nbconvert_exporter": "python",
   "pygments_lexer": "ipython3",
   "version": "3.7.6"
  }
 },
 "nbformat": 4,
 "nbformat_minor": 4
}
