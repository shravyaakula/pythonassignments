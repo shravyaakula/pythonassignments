{
  "nbformat": 4,
  "nbformat_minor": 0,
  "metadata": {
    "colab": {
      "name": "Untitled2.ipynb",
      "provenance": [],
      "authorship_tag": "ABX9TyOYcH/6nRZsqylocv5qF8Y8",
      "include_colab_link": true
    },
    "kernelspec": {
      "name": "python3",
      "display_name": "Python 3"
    }
  },
  "cells": [
    {
      "cell_type": "markdown",
      "metadata": {
        "id": "view-in-github",
        "colab_type": "text"
      },
      "source": [
        "<a href=\"https://colab.research.google.com/github/shravyaakula/pythonassignments/blob/master/Untitled2.ipynb\" target=\"_parent\"><img src=\"https://colab.research.google.com/assets/colab-badge.svg\" alt=\"Open In Colab\"/></a>"
      ]
    },
    {
      "cell_type": "code",
      "metadata": {
        "id": "irE2PnhAWoh7",
        "colab_type": "code",
        "colab": {
          "base_uri": "https://localhost:8080/",
          "height": 101
        },
        "outputId": "2b034820-9871-4217-86b2-f997c6cc1184"
      },
      "source": [
        "'''Question 1'''\n",
        "print(0.1+0.2)\n",
        "print(\"1.8\"+\"2\")\n",
        "print(87>78)\n",
        "print((0.1+0.2)==0.3)\n",
        "print(\"predict \" \"output\" ,\".....\")"
      ],
      "execution_count": null,
      "outputs": [
        {
          "output_type": "stream",
          "text": [
            "0.30000000000000004\n",
            "1.82\n",
            "True\n",
            "False\n",
            "predict output .....\n"
          ],
          "name": "stdout"
        }
      ]
    },
    {
      "cell_type": "code",
      "metadata": {
        "id": "CKqeYC1SW4kO",
        "colab_type": "code",
        "colab": {
          "base_uri": "https://localhost:8080/",
          "height": 262
        },
        "outputId": "78c151b9-b3c5-4385-d5b7-ad6e8eebb2f2"
      },
      "source": [
        "'''Question 2'''\n",
        "print(\"prints\",\"multiple \",\"messages\\n\")\n",
        "print(\"concatenate \"+\"two strings\\n\")\n",
        "print(5+6+\" adds two numbers\\n\")"
      ],
      "execution_count": null,
      "outputs": [
        {
          "output_type": "stream",
          "text": [
            "prints multiple  messages\n",
            "\n",
            "concatenate two strings\n",
            "\n"
          ],
          "name": "stdout"
        },
        {
          "output_type": "error",
          "ename": "TypeError",
          "evalue": "ignored",
          "traceback": [
            "\u001b[0;31m---------------------------------------------------------------------------\u001b[0m",
            "\u001b[0;31mTypeError\u001b[0m                                 Traceback (most recent call last)",
            "\u001b[0;32m<ipython-input-3-1dda58c2c275>\u001b[0m in \u001b[0;36m<module>\u001b[0;34m()\u001b[0m\n\u001b[1;32m      2\u001b[0m \u001b[0mprint\u001b[0m\u001b[0;34m(\u001b[0m\u001b[0;34m\"prints\"\u001b[0m\u001b[0;34m,\u001b[0m\u001b[0;34m\"multiple \"\u001b[0m\u001b[0;34m,\u001b[0m\u001b[0;34m\"messages\\n\"\u001b[0m\u001b[0;34m)\u001b[0m\u001b[0;34m\u001b[0m\u001b[0;34m\u001b[0m\u001b[0m\n\u001b[1;32m      3\u001b[0m \u001b[0mprint\u001b[0m\u001b[0;34m(\u001b[0m\u001b[0;34m\"concatenate \"\u001b[0m\u001b[0;34m+\u001b[0m\u001b[0;34m\"two strings\\n\"\u001b[0m\u001b[0;34m)\u001b[0m\u001b[0;34m\u001b[0m\u001b[0;34m\u001b[0m\u001b[0m\n\u001b[0;32m----> 4\u001b[0;31m \u001b[0mprint\u001b[0m\u001b[0;34m(\u001b[0m\u001b[0;36m5\u001b[0m\u001b[0;34m+\u001b[0m\u001b[0;36m6\u001b[0m\u001b[0;34m+\u001b[0m\u001b[0;34m\" adds two numbers\\n\"\u001b[0m\u001b[0;34m)\u001b[0m\u001b[0;34m\u001b[0m\u001b[0;34m\u001b[0m\u001b[0m\n\u001b[0m",
            "\u001b[0;31mTypeError\u001b[0m: unsupported operand type(s) for +: 'int' and 'str'"
          ]
        }
      ]
    },
    {
      "cell_type": "code",
      "metadata": {
        "id": "w1GHNmWkXE6r",
        "colab_type": "code",
        "colab": {
          "base_uri": "https://localhost:8080/",
          "height": 50
        },
        "outputId": "5f6f0eda-1992-4f5d-bc73-48cae5687c6b"
      },
      "source": [
        "'''Question 3'''\n",
        "print(\"ba\"+\"na\"*2)\n",
        "print(\"c:\\\\naresh\\\\raju\\\\abhi\")"
      ],
      "execution_count": null,
      "outputs": [
        {
          "output_type": "stream",
          "text": [
            "banana\n",
            "c:\\naresh\\raju\\abhi\n"
          ],
          "name": "stdout"
        }
      ]
    },
    {
      "cell_type": "code",
      "metadata": {
        "id": "9Y-bY6LgXFNO",
        "colab_type": "code",
        "colab": {
          "base_uri": "https://localhost:8080/",
          "height": 34
        },
        "outputId": "c129f109-6f1f-48a8-888d-09f00796f0f0"
      },
      "source": [
        "'welcome to python traing program'[-4::-4]"
      ],
      "execution_count": null,
      "outputs": [
        {
          "output_type": "execute_result",
          "data": {
            "text/plain": [
              "'g anytow'"
            ]
          },
          "metadata": {
            "tags": []
          },
          "execution_count": 5
        }
      ]
    },
    {
      "cell_type": "code",
      "metadata": {
        "id": "f9MS4GGnXFaY",
        "colab_type": "code",
        "colab": {
          "base_uri": "https://localhost:8080/",
          "height": 34
        },
        "outputId": "715b8c27-9385-4645-c6a5-a0abe1ffcfa7"
      },
      "source": [
        "'A series of characters designated as one object known as a string'[2:18:5]"
      ],
      "execution_count": null,
      "outputs": [
        {
          "output_type": "execute_result",
          "data": {
            "text/plain": [
              "'sscc'"
            ]
          },
          "metadata": {
            "tags": []
          },
          "execution_count": 6
        }
      ]
    },
    {
      "cell_type": "code",
      "metadata": {
        "id": "3wxeFELsXFgo",
        "colab_type": "code",
        "colab": {
          "base_uri": "https://localhost:8080/",
          "height": 34
        },
        "outputId": "29bbec85-a379-4022-c627-cd355f2b43bd"
      },
      "source": [
        "print('A series of charecters designated as one object known as a string'[::-1][4::3])"
      ],
      "execution_count": null,
      "outputs": [
        {
          "output_type": "stream",
          "text": [
            "taawkcbe  tgestrcoeeA\n"
          ],
          "name": "stdout"
        }
      ]
    },
    {
      "cell_type": "code",
      "metadata": {
        "id": "35lDykVIXFjZ",
        "colab_type": "code",
        "colab": {
          "base_uri": "https://localhost:8080/",
          "height": 34
        },
        "outputId": "94a24e3c-505d-41f8-9780-b9cad68ad9af"
      },
      "source": [
        "print(\"-----------\")"
      ],
      "execution_count": null,
      "outputs": [
        {
          "output_type": "stream",
          "text": [
            "-----------\n"
          ],
          "name": "stdout"
        }
      ]
    },
    {
      "cell_type": "code",
      "metadata": {
        "id": "nYdA_9LVXFmL",
        "colab_type": "code",
        "colab": {
          "base_uri": "https://localhost:8080/",
          "height": 34
        },
        "outputId": "4d542dea-33b3-4564-a4d8-288ca5f0f104"
      },
      "source": [
        "print('Welcome to python traing program'[3:10][::-1])\n"
      ],
      "execution_count": null,
      "outputs": [
        {
          "output_type": "stream",
          "text": [
            "ot emoc\n"
          ],
          "name": "stdout"
        }
      ]
    },
    {
      "cell_type": "code",
      "metadata": {
        "id": "7V_yQ2aqXFop",
        "colab_type": "code",
        "colab": {
          "base_uri": "https://localhost:8080/",
          "height": 50
        },
        "outputId": "296bbbf9-10d9-49db-cb05-d3284dd142d0"
      },
      "source": [
        "str1=True\n",
        "x=5 > 3\n",
        "print(str1==x)\n",
        "y=5 > 8\n",
        "print(str1==y)"
      ],
      "execution_count": null,
      "outputs": [
        {
          "output_type": "stream",
          "text": [
            "True\n",
            "False\n"
          ],
          "name": "stdout"
        }
      ]
    },
    {
      "cell_type": "code",
      "metadata": {
        "id": "jr9Jpm-kXFq-",
        "colab_type": "code",
        "colab": {
          "base_uri": "https://localhost:8080/",
          "height": 34
        },
        "outputId": "141a55e7-81e8-4277-9f79-5759afcbe57c"
      },
      "source": [
        "num=7\n",
        "Name = \"Michael jackson\"\n",
        "sear_num = Name.find('el')\n",
        "print(num > sear_num)"
      ],
      "execution_count": null,
      "outputs": [
        {
          "output_type": "stream",
          "text": [
            "True\n"
          ],
          "name": "stdout"
        }
      ]
    },
    {
      "cell_type": "code",
      "metadata": {
        "id": "27FTGlKwZDQS",
        "colab_type": "code",
        "colab": {
          "base_uri": "https://localhost:8080/",
          "height": 34
        },
        "outputId": "28838c9c-965b-4810-a95a-3dec98af3d2d"
      },
      "source": [
        "p_pharse=\"was it a car or a cat I saw\"\n",
        "x=p_pharse.upper()[::-1]\n",
        "print(x)"
      ],
      "execution_count": null,
      "outputs": [
        {
          "output_type": "stream",
          "text": [
            "WAS I TAC A RO RAC A TI SAW\n"
          ],
          "name": "stdout"
        }
      ]
    },
    {
      "cell_type": "code",
      "metadata": {
        "id": "KksLagEvZDTC",
        "colab_type": "code",
        "colab": {
          "base_uri": "https://localhost:8080/",
          "height": 34
        },
        "outputId": "d612bfbe-fb0d-48be-9cb7-efea0de38eff"
      },
      "source": [
        "A='1934567\\n'\n",
        "n=A[1::2]\n",
        "print(int(n))"
      ],
      "execution_count": null,
      "outputs": [
        {
          "output_type": "stream",
          "text": [
            "946\n"
          ],
          "name": "stdout"
        }
      ]
    },
    {
      "cell_type": "code",
      "metadata": {
        "id": "gTNKhJeDZDWU",
        "colab_type": "code",
        "colab": {
          "base_uri": "https://localhost:8080/",
          "height": 34
        },
        "outputId": "b5074d6c-bb85-4f57-addd-f7c6f33f5001"
      },
      "source": [
        "fake_phrase = \"Fake news has a knack for spreading like wild fire\"\n",
        "x=fake_phrase[16:40:].upper()[::-1]\n",
        "x.split()"
      ],
      "execution_count": null,
      "outputs": [
        {
          "output_type": "execute_result",
          "data": {
            "text/plain": [
              "['EKIL', 'GNIDAERPS', 'ROF', 'KCANK']"
            ]
          },
          "metadata": {
            "tags": []
          },
          "execution_count": 16
        }
      ]
    },
    {
      "cell_type": "code",
      "metadata": {
        "id": "yZYlCQ_5ZkrK",
        "colab_type": "code",
        "colab": {
          "base_uri": "https://localhost:8080/",
          "height": 34
        },
        "outputId": "a706ba5e-ba03-41fc-bc5b-a61daf988e24"
      },
      "source": [
        "msg1=\" Facebook already uses Al to Filter Fake stories from the feed of users \"\n",
        "print(msg1.split())"
      ],
      "execution_count": null,
      "outputs": [
        {
          "output_type": "stream",
          "text": [
            "['Facebook', 'already', 'uses', 'Al', 'to', 'Filter', 'Fake', 'stories', 'from', 'the', 'feed', 'of', 'users']\n"
          ],
          "name": "stdout"
        }
      ]
    },
    {
      "cell_type": "code",
      "metadata": {
        "id": "KftNtx95Zk-R",
        "colab_type": "code",
        "colab": {
          "base_uri": "https://localhost:8080/",
          "height": 34
        },
        "outputId": "ebd00784-c9a8-4014-8498-12a2607982aa"
      },
      "source": [
        "msg2 = \"welcome to sr engineering college\"\n",
        "x=msg2.count(\"o\")     #x\n",
        "y=msg2.count(\"r\")     #r\n",
        "msg2[y**x:(x**y+x+y):][::-1]\n",
        "msg2[2**3:(3**2+3+2):][::-1]"
      ],
      "execution_count": null,
      "outputs": [
        {
          "output_type": "execute_result",
          "data": {
            "text/plain": [
              "' rs ot'"
            ]
          },
          "metadata": {
            "tags": []
          },
          "execution_count": 18
        }
      ]
    },
    {
      "cell_type": "code",
      "metadata": {
        "id": "s4QwKArCZ0P5",
        "colab_type": "code",
        "colab": {
          "base_uri": "https://localhost:8080/",
          "height": 34
        },
        "outputId": "720c3e2f-7b57-4876-9362-24f41be7b2ae"
      },
      "source": [
        "msg2.count(\"r\")    #r"
      ],
      "execution_count": null,
      "outputs": [
        {
          "output_type": "execute_result",
          "data": {
            "text/plain": [
              "2"
            ]
          },
          "metadata": {
            "tags": []
          },
          "execution_count": 19
        }
      ]
    },
    {
      "cell_type": "code",
      "metadata": {
        "id": "u-p4CPrhZ0W3",
        "colab_type": "code",
        "colab": {
          "base_uri": "https://localhost:8080/",
          "height": 34
        },
        "outputId": "637f38c1-5499-4acd-f86e-b8fe840a6c14"
      },
      "source": [
        "msg2.count(\"o\")     #x"
      ],
      "execution_count": null,
      "outputs": [
        {
          "output_type": "execute_result",
          "data": {
            "text/plain": [
              "3"
            ]
          },
          "metadata": {
            "tags": []
          },
          "execution_count": 20
        }
      ]
    },
    {
      "cell_type": "code",
      "metadata": {
        "id": "Qf_WD2xkZlOp",
        "colab_type": "code",
        "colab": {
          "base_uri": "https://localhost:8080/",
          "height": 34
        },
        "outputId": "486aa278-e46d-4f5e-c78f-d16da47248f6"
      },
      "source": [
        "num1,num2=\"94\",\"30\"\n",
        "data=\"As per census 2011,Gender ratio of India in 943 females per 1000 males \"\n",
        "num1+num2[0] in data"
      ],
      "execution_count": null,
      "outputs": [
        {
          "output_type": "execute_result",
          "data": {
            "text/plain": [
              "True"
            ]
          },
          "metadata": {
            "tags": []
          },
          "execution_count": 21
        }
      ]
    },
    {
      "cell_type": "code",
      "metadata": {
        "id": "VUIOui2IabgD",
        "colab_type": "code",
        "colab": {
          "base_uri": "https://localhost:8080/",
          "height": 50
        },
        "outputId": "f4b4f79f-7401-4885-d776-f9b8ff603ad9"
      },
      "source": [
        "print(data[:45],print(int(num1)+int(num2)))"
      ],
      "execution_count": null,
      "outputs": [
        {
          "output_type": "stream",
          "text": [
            "124\n",
            "As per census 2011,Gender ratio of India in 9 None\n"
          ],
          "name": "stdout"
        }
      ]
    },
    {
      "cell_type": "code",
      "metadata": {
        "id": "8yJXZmAqa7ES",
        "colab_type": "code",
        "colab": {
          "base_uri": "https://localhost:8080/",
          "height": 84
        },
        "outputId": "86c2d3c3-6b72-4271-e504-cfc31d64d4aa"
      },
      "source": [
        "M= float(input('enter amount of water in kilograms '))\n",
        "initialtemperature=float(input('enter initial temperature of water in degree celsius '))\n",
        "finaltemperature=float(input('enter final temperature of water in degree celsius '))\n",
        "Q = M*4184*(finaltemperature - initialtemperature)\n",
        "print(f'energy required to heat water = {Q} joules')              "
      ],
      "execution_count": null,
      "outputs": [
        {
          "output_type": "stream",
          "text": [
            "enter amount of water in kilograms 10\n",
            "enter initial temperature of water in degree celsius 70\n",
            "enter final temperature of water in degree celsius 100\n",
            "energy required to heat water = 1255200.0 joules\n"
          ],
          "name": "stdout"
        }
      ]
    },
    {
      "cell_type": "code",
      "metadata": {
        "id": "NBhOg2s8ab9Z",
        "colab_type": "code",
        "colab": {
          "base_uri": "https://localhost:8080/",
          "height": 50
        },
        "outputId": "63d76c50-fd7e-4227-cdec-1acc54f893d3"
      },
      "source": [
        "x=int(input('Enter x value'))\n",
        "y=x*2\n",
        "print('z'*x+'o'*y)"
      ],
      "execution_count": null,
      "outputs": [
        {
          "output_type": "stream",
          "text": [
            "Enter x value2\n",
            "zzoooo\n"
          ],
          "name": "stdout"
        }
      ]
    },
    {
      "cell_type": "code",
      "metadata": {
        "id": "Jypr4MejXFuI",
        "colab_type": "code",
        "colab": {
          "base_uri": "https://localhost:8080/",
          "height": 101
        },
        "outputId": "b731b2da-0d0a-4289-9db4-91d274ada3ac"
      },
      "source": [
        "x=int(input('enter x value'))\n",
        "y=int(input('enter y value'))\n",
        "pow=x**y\n",
        "print(pow)\n",
        "div=int(pow/(x*y))\n",
        "print(div)\n",
        "print(div^(x+y))"
      ],
      "execution_count": null,
      "outputs": [
        {
          "output_type": "stream",
          "text": [
            "enter x value5\n",
            "enter y value6\n",
            "15625\n",
            "520\n",
            "515\n"
          ],
          "name": "stdout"
        }
      ]
    }
  ]
}