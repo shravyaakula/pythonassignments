{
 "cells": [
  {
   "cell_type": "code",
   "execution_count": 4,
   "metadata": {},
   "outputs": [
    {
     "name": "stdout",
     "output_type": "stream",
     "text": [
      "Enter the year: 2\n",
      "dog\n"
     ]
    }
   ],
   "source": [
    "#question 1\n",
    "year=int(input(\"Enter the year: \"))\n",
    "if year % 12==0 :\n",
    "    print(\"monkey\")\n",
    "elif year % 12==1 :\n",
    "    print(\"rooster\")\n",
    "elif year % 12==2 :\n",
    "    print(\"dog\")\n",
    "elif year % 12==3 :\n",
    "    print(\"pig\")\n",
    "elif year % 12==4 :\n",
    "    print(\"rat\")\n",
    "elif year % 12==5 :\n",
    "    print(\"ox\")\n",
    "elif year % 12==6 :\n",
    "    print(\"tiger\")\n",
    "elif year % 12==7 :\n",
    "    print(\"rabbit\") \n",
    "elif year % 12==8 :\n",
    "    print(\"dragon\")\n",
    "elif year % 12==9 :\n",
    "    print(\"snake\")\n",
    "elif year % 12==10 :\n",
    "    print(\"horse\")\n",
    "else :\n",
    "    print(\"sheep\")\n",
    "    "
   ]
  },
  {
   "cell_type": "code",
   "execution_count": 5,
   "metadata": {},
   "outputs": [
    {
     "name": "stdout",
     "output_type": "stream",
     "text": [
      "Enter which type of ticket you want: circle\n",
      "select cash or card: cash\n",
      "cost of ticket is :  675\n"
     ]
    }
   ],
   "source": [
    "#question 3\n",
    "seat=input(\"Enter which type of ticket you want: \")\n",
    "pay=input(\"select cash or card: \")\n",
    "if seat==\"stalls\" :\n",
    "    x=625\n",
    "elif seat==\"circle\" :\n",
    "    x=750\n",
    "elif seat==\"upper class\" :\n",
    "    x=850\n",
    "else :\n",
    "    x=100\n",
    "if pay==\"cash\" :\n",
    "    t=x-(x*10//100)\n",
    "else :\n",
    "    t=x-(x*5//100)\n",
    "print(\"cost of ticket is : \",t)\n",
    "  "
   ]
  },
  {
   "cell_type": "code",
   "execution_count": 1,
   "metadata": {},
   "outputs": [
    {
     "name": "stdout",
     "output_type": "stream",
     "text": [
      "Enter amount of water in kilograms: 10\n",
      "Enter intial temperature of water in degree celsius: 10\n",
      "Enter final temperature of water in degree celsius: 15\n"
     ]
    },
    {
     "ename": "NameError",
     "evalue": "name 'intialTemperture' is not defined",
     "output_type": "error",
     "traceback": [
      "\u001b[1;31m---------------------------------------------------------------------------\u001b[0m",
      "\u001b[1;31mNameError\u001b[0m                                 Traceback (most recent call last)",
      "\u001b[1;32m<ipython-input-1-9a407cd95b51>\u001b[0m in \u001b[0;36m<module>\u001b[1;34m\u001b[0m\n\u001b[0;32m      3\u001b[0m \u001b[0mintialTemperature\u001b[0m\u001b[1;33m=\u001b[0m\u001b[0mfloat\u001b[0m\u001b[1;33m(\u001b[0m\u001b[0minput\u001b[0m\u001b[1;33m(\u001b[0m\u001b[1;34m\"Enter intial temperature of water in degree celsius: \"\u001b[0m\u001b[1;33m)\u001b[0m\u001b[1;33m)\u001b[0m\u001b[1;33m\u001b[0m\u001b[1;33m\u001b[0m\u001b[0m\n\u001b[0;32m      4\u001b[0m \u001b[0mfinalTemperature\u001b[0m\u001b[1;33m=\u001b[0m\u001b[0mfloat\u001b[0m\u001b[1;33m(\u001b[0m\u001b[0minput\u001b[0m\u001b[1;33m(\u001b[0m\u001b[1;34m\"Enter final temperature of water in degree celsius: \"\u001b[0m\u001b[1;33m)\u001b[0m\u001b[1;33m)\u001b[0m\u001b[1;33m\u001b[0m\u001b[1;33m\u001b[0m\u001b[0m\n\u001b[1;32m----> 5\u001b[1;33m \u001b[0mQ\u001b[0m \u001b[1;33m=\u001b[0m \u001b[0mM\u001b[0m \u001b[1;33m*\u001b[0m\u001b[1;36m4184\u001b[0m\u001b[1;33m*\u001b[0m\u001b[1;33m(\u001b[0m\u001b[0mfinalTemperature\u001b[0m \u001b[1;33m-\u001b[0m \u001b[0mintialTemperture\u001b[0m\u001b[1;33m)\u001b[0m\u001b[1;33m\u001b[0m\u001b[1;33m\u001b[0m\u001b[0m\n\u001b[0m\u001b[0;32m      6\u001b[0m \u001b[0mprint\u001b[0m\u001b[1;33m(\u001b[0m\u001b[1;34m\"Energy required to heat water: \"\u001b[0m\u001b[1;33m,\u001b[0m\u001b[0mQ\u001b[0m\u001b[1;33m)\u001b[0m\u001b[1;33m\u001b[0m\u001b[1;33m\u001b[0m\u001b[0m\n",
      "\u001b[1;31mNameError\u001b[0m: name 'intialTemperture' is not defined"
     ]
    }
   ],
   "source": [
    "#question 4\n",
    "M=float(input(\"Enter amount of water in kilograms: \"))\n",
    "intialTemperature=float(input(\"Enter intial temperature of water in degree celsius: \"))\n",
    "finalTemperature=float(input(\"Enter final temperature of water in degree celsius: \"))\n",
    "Q = M *4184*(finalTemperature - intialTemperture)\n",
    "print(\"Energy required to heat water: \",Q)"
   ]
  },
  {
   "cell_type": "code",
   "execution_count": null,
   "metadata": {},
   "outputs": [],
   "source": [
    "#question 5\n",
    "season=input(\"Enter season: \")\n",
    "if season==\"winter\" :\n",
    "    print(\"December,January and february\")\n",
    "elif season==\"Spring\" :\n",
    "    print(\"March,April and may\")\n",
    "elif season==\"Summer\" :\n",
    "    print(\"June,July and August\")\n",
    "elif season==\"Autumn\" :\n",
    "    printf(\"September,october and November\")\n",
    "else :\n",
    "    print(\"Ntng\")"
   ]
  },
  {
   "cell_type": "code",
   "execution_count": null,
   "metadata": {},
   "outputs": [],
   "source": []
  },
  {
   "cell_type": "code",
   "execution_count": null,
   "metadata": {},
   "outputs": [],
   "source": []
  },
  {
   "cell_type": "code",
   "execution_count": null,
   "metadata": {},
   "outputs": [],
   "source": []
  },
  {
   "cell_type": "code",
   "execution_count": null,
   "metadata": {},
   "outputs": [],
   "source": []
  }
 ],
 "metadata": {
  "kernelspec": {
   "display_name": "Python 3",
   "language": "python",
   "name": "python3"
  },
  "language_info": {
   "codemirror_mode": {
    "name": "ipython",
    "version": 3
   },
   "file_extension": ".py",
   "mimetype": "text/x-python",
   "name": "python",
   "nbconvert_exporter": "python",
   "pygments_lexer": "ipython3",
   "version": "3.7.6"
  }
 },
 "nbformat": 4,
 "nbformat_minor": 4
}
